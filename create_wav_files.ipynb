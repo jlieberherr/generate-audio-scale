{
 "cells": [
  {
   "cell_type": "code",
   "execution_count": 1,
   "metadata": {},
   "outputs": [],
   "source": [
    "import numpy as np\n",
    "from scipy.io import wavfile\n",
    "import math"
   ]
  },
  {
   "cell_type": "markdown",
   "metadata": {},
   "source": [
    "# Generate frequencies of different scales"
   ]
  },
  {
   "cell_type": "code",
   "execution_count": 2,
   "metadata": {},
   "outputs": [],
   "source": [
    "def get_frequencies_arithmetic_scale(base_frequence=440, nb_steps=12):\n",
    "    d = (2 * base_frequence - base_frequence) / nb_steps \n",
    "    return [base_frequence + n * d for n in range(nb_steps + 1)]"
   ]
  },
  {
   "cell_type": "code",
   "execution_count": 3,
   "metadata": {},
   "outputs": [
    {
     "name": "stdout",
     "output_type": "stream",
     "text": [
      "[440.0, 476.6666666666667, 513.3333333333334, 550.0, 586.6666666666666, 623.3333333333333, 660.0, 696.6666666666666, 733.3333333333333, 770.0, 806.6666666666666, 843.3333333333333, 880.0]\n"
     ]
    }
   ],
   "source": [
    "print(get_frequencies_arithmetic_scale())"
   ]
  },
  {
   "cell_type": "code",
   "execution_count": 4,
   "metadata": {},
   "outputs": [],
   "source": [
    "def get_frequencies_geometric_scale(base_frequence=440, nb_steps=12):\n",
    "    q = math.pow(2, 1.0 / nb_steps)\n",
    "    return [base_frequence * math.pow(q, n) for n in range(nb_steps + 1)]"
   ]
  },
  {
   "cell_type": "code",
   "execution_count": 5,
   "metadata": {},
   "outputs": [
    {
     "name": "stdout",
     "output_type": "stream",
     "text": [
      "[440.0, 466.1637615180899, 493.8833012561241, 523.2511306011974, 554.3652619537443, 587.3295358348153, 622.253967444162, 659.2551138257401, 698.456462866008, 739.988845423269, 783.990871963499, 830.6093951598907, 880.0000000000003]\n"
     ]
    }
   ],
   "source": [
    "print(get_frequencies_geometric_scale())"
   ]
  },
  {
   "cell_type": "code",
   "execution_count": 6,
   "metadata": {},
   "outputs": [],
   "source": [
    "def get_frequencies_harmonic_scale(base_frequence=440, nb_steps=12):\n",
    "    a_0 = 1.0 / base_frequence\n",
    "    d = (1.0 / (2 * base_frequence) - 1 / base_frequence) / nb_steps\n",
    "    return [1.0 / (a_0 + n * d) for n in range(nb_steps + 1)]"
   ]
  },
  {
   "cell_type": "code",
   "execution_count": 7,
   "metadata": {},
   "outputs": [
    {
     "name": "stdout",
     "output_type": "stream",
     "text": [
      "[440.0, 459.13043478260875, 480.0, 502.8571428571429, 528.0, 555.7894736842105, 586.6666666666667, 621.1764705882354, 660.0000000000001, 704.0, 754.2857142857143, 812.3076923076924, 880.0]\n"
     ]
    }
   ],
   "source": [
    "print(get_frequencies_harmonic_scale())"
   ]
  },
  {
   "cell_type": "code",
   "execution_count": 8,
   "metadata": {},
   "outputs": [],
   "source": [
    "def get_frequencies_pythagorean_scale(base_frequence=440, nb_steps=12):\n",
    "    res = []\n",
    "    act_freq = base_frequence\n",
    "    res += [act_freq]\n",
    "    for _ in range(nb_steps):\n",
    "        act_freq = act_freq * 1.5\n",
    "        next_freq = act_freq\n",
    "        while next_freq >= (base_frequence * 2):\n",
    "            next_freq = next_freq / 2\n",
    "        res += [next_freq]\n",
    "    res[-1] = res[-1] * 2\n",
    "    return sorted(res)"
   ]
  },
  {
   "cell_type": "code",
   "execution_count": 9,
   "metadata": {},
   "outputs": [
    {
     "name": "stdout",
     "output_type": "stream",
     "text": [
      "[440, 469.86328125, 495.0, 528.59619140625, 556.875, 594.6707153320312, 626.484375, 660.0, 704.794921875, 742.5, 792.894287109375, 835.3125, 892.0060729980469]\n"
     ]
    }
   ],
   "source": [
    "print(get_frequencies_pythagorean_scale())"
   ]
  },
  {
   "cell_type": "markdown",
   "metadata": {},
   "source": [
    "# Write wav-file"
   ]
  },
  {
   "cell_type": "code",
   "execution_count": 10,
   "metadata": {},
   "outputs": [],
   "source": [
    "def write_scale_to_wav(frequencies, file_name, sample_rate=44100, duration=1):\n",
    "    nb_tones = len(frequencies)\n",
    "    t = np.linspace(0, duration, sample_rate * duration)\n",
    "    data = []\n",
    "    for freq in frequencies:\n",
    "        data += [math.sin(freq * 2 * math.pi * x) for x in t]\n",
    "    wavfile.write(file_name, sample_rate, np.array(data))"
   ]
  },
  {
   "cell_type": "markdown",
   "metadata": {},
   "source": [
    "## Write different scales"
   ]
  },
  {
   "cell_type": "code",
   "execution_count": 11,
   "metadata": {},
   "outputs": [],
   "source": [
    "write_scale_to_wav(get_frequencies_arithmetic_scale(), \"a_semitone_arithmetic.wav\")"
   ]
  },
  {
   "cell_type": "code",
   "execution_count": 12,
   "metadata": {},
   "outputs": [],
   "source": [
    "write_scale_to_wav(get_frequencies_geometric_scale(), \"a_semitone_geometric.wav\")"
   ]
  },
  {
   "cell_type": "code",
   "execution_count": 13,
   "metadata": {},
   "outputs": [],
   "source": [
    "write_scale_to_wav(get_frequencies_harmonic_scale(), \"a_semitone_harmonic.wav\")"
   ]
  },
  {
   "cell_type": "code",
   "execution_count": 14,
   "metadata": {},
   "outputs": [],
   "source": [
    "write_scale_to_wav(get_frequencies_pythagorean_scale(), \"a_semitone_pythagorean.wav\")"
   ]
  },
  {
   "cell_type": "markdown",
   "metadata": {},
   "source": [
    "## Write different a-minor- and a-major-scales"
   ]
  },
  {
   "cell_type": "code",
   "execution_count": 15,
   "metadata": {},
   "outputs": [],
   "source": [
    "def extract_subscale(frequencies, positions):\n",
    "    res = []\n",
    "    factor = 1.0\n",
    "    for i in range(len(positions)):\n",
    "        if i == 0:\n",
    "            res += [frequencies[positions[i]]]\n",
    "        else:\n",
    "            if positions[i] < positions[i - 1]:\n",
    "                factor *= 2\n",
    "            res += [factor * frequencies[positions[i]]]\n",
    "    return res"
   ]
  },
  {
   "cell_type": "code",
   "execution_count": 16,
   "metadata": {},
   "outputs": [],
   "source": [
    "info_signature = {\n",
    "    \"minor\": [0, 2, 3, 5, 7, 8, 10, 12],\n",
    "    \"major\": [0, 2, 4, 5, 7, 9, 11, 12]\n",
    "}\n",
    "\n",
    "info_scale_types = {\n",
    "    \"arithmetic\": get_frequencies_arithmetic_scale,\n",
    "    \"geometric\": get_frequencies_geometric_scale,\n",
    "    \"harmonic\": get_frequencies_harmonic_scale,\n",
    "    \"pythagorean\": get_frequencies_pythagorean_scale,\n",
    "}"
   ]
  },
  {
   "cell_type": "code",
   "execution_count": 17,
   "metadata": {},
   "outputs": [
    {
     "name": "stdout",
     "output_type": "stream",
     "text": [
      "a_minor_arithmetic\n",
      "[440.0, 513.3333333333334, 550.0, 623.3333333333333, 696.6666666666666, 733.3333333333333, 806.6666666666666, 880.0]\n",
      "a_minor_geometric\n",
      "[440.0, 493.8833012561241, 523.2511306011974, 587.3295358348153, 659.2551138257401, 698.456462866008, 783.990871963499, 880.0000000000003]\n",
      "a_minor_harmonic\n",
      "[440.0, 480.0, 502.8571428571429, 555.7894736842105, 621.1764705882354, 660.0000000000001, 754.2857142857143, 880.0]\n",
      "a_minor_pythagorean\n",
      "[440, 495.0, 528.59619140625, 594.6707153320312, 660.0, 704.794921875, 792.894287109375, 892.0060729980469]\n",
      "a_major_arithmetic\n",
      "[440.0, 513.3333333333334, 586.6666666666666, 623.3333333333333, 696.6666666666666, 770.0, 843.3333333333333, 880.0]\n",
      "a_major_geometric\n",
      "[440.0, 493.8833012561241, 554.3652619537443, 587.3295358348153, 659.2551138257401, 739.988845423269, 830.6093951598907, 880.0000000000003]\n",
      "a_major_harmonic\n",
      "[440.0, 480.0, 528.0, 555.7894736842105, 621.1764705882354, 704.0, 812.3076923076924, 880.0]\n",
      "a_major_pythagorean\n",
      "[440, 495.0, 556.875, 594.6707153320312, 660.0, 742.5, 835.3125, 892.0060729980469]\n"
     ]
    }
   ],
   "source": [
    "for sig, positions in info_signature.items():    \n",
    "    for type_name, type_fun in info_scale_types.items():\n",
    "        freqs = extract_subscale(type_fun(),positions)\n",
    "        desc = \"a_{}_{}\".format(sig, type_name)\n",
    "        print(desc)\n",
    "        print(freqs)\n",
    "        write_scale_to_wav(freqs, \"{}.wav\".format(desc))"
   ]
  },
  {
   "cell_type": "markdown",
   "metadata": {},
   "source": [
    "# Directly to the speakers"
   ]
  },
  {
   "cell_type": "code",
   "execution_count": 18,
   "metadata": {},
   "outputs": [],
   "source": [
    "import winsound"
   ]
  },
  {
   "cell_type": "code",
   "execution_count": null,
   "metadata": {},
   "outputs": [],
   "source": [
    "for freq in get_frequencies_geometric_scale():\n",
    "    winsound.Beep(int(freq), 1000)"
   ]
  }
 ],
 "metadata": {
  "kernelspec": {
   "display_name": "Python 3",
   "language": "python",
   "name": "python3"
  },
  "language_info": {
   "codemirror_mode": {
    "name": "ipython",
    "version": 3
   },
   "file_extension": ".py",
   "mimetype": "text/x-python",
   "name": "python",
   "nbconvert_exporter": "python",
   "pygments_lexer": "ipython3",
   "version": "3.7.6"
  }
 },
 "nbformat": 4,
 "nbformat_minor": 4
}
