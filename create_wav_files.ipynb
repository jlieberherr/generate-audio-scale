{
 "cells": [
  {
   "cell_type": "code",
   "execution_count": 1,
   "metadata": {},
   "outputs": [],
   "source": [
    "#!/usr/bin/env python3\n",
    "\n",
    "import numpy as np\n",
    "from scipy.io import wavfile\n",
    "\n",
    "sampleRate = 44100\n",
    "frequency = 440\n",
    "length = 5\n",
    "\n",
    "t = np.linspace(0, length, sampleRate * length)  #  Produces a 5 second Audio-File\n",
    "y = np.sin(frequency * 2 * np.pi * t)  #  Has frequency of 440Hz\n",
    "\n",
    "wavfile.write('Sine.wav', sampleRate, y)\n"
   ]
  },
  {
   "cell_type": "code",
   "execution_count": null,
   "metadata": {},
   "outputs": [],
   "source": []
  }
 ],
 "metadata": {
  "kernelspec": {
   "display_name": "Python 3",
   "language": "python",
   "name": "python3"
  },
  "language_info": {
   "codemirror_mode": {
    "name": "ipython",
    "version": 3
   },
   "file_extension": ".py",
   "mimetype": "text/x-python",
   "name": "python",
   "nbconvert_exporter": "python",
   "pygments_lexer": "ipython3",
   "version": "3.7.6"
  }
 },
 "nbformat": 4,
 "nbformat_minor": 4
}
